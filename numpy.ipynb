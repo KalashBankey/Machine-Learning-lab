{
  "nbformat": 4,
  "nbformat_minor": 0,
  "metadata": {
    "colab": {
      "provenance": [],
      "include_colab_link": true
    },
    "kernelspec": {
      "name": "python3",
      "display_name": "Python 3"
    }
  },
  "cells": [
    {
      "cell_type": "markdown",
      "metadata": {
        "id": "view-in-github",
        "colab_type": "text"
      },
      "source": [
        "<a href=\"https://colab.research.google.com/github/KalashBankey/Machine-Learning-lab/blob/main/numpy.ipynb\" target=\"_parent\"><img src=\"https://colab.research.google.com/assets/colab-badge.svg\" alt=\"Open In Colab\"/></a>"
      ]
    },
    {
      "cell_type": "code",
      "metadata": {
        "id": "O_MdLfldlT7E",
        "outputId": "b8733b05-981b-4ede-c23b-0d4b333f7463",
        "colab": {
          "base_uri": "https://localhost:8080/"
        }
      },
      "source": [
        "my_list = [1,2,3]\n",
        "import numpy as np\n",
        "arr = np.array(my_list)\n",
        "print(\"Type/Class of this object:\",type(arr))\n",
        "print(\"Here is the vector\\n--------------------\\n\",arr)"
      ],
      "execution_count": null,
      "outputs": [
        {
          "output_type": "stream",
          "name": "stdout",
          "text": [
            "Type/Class of this object: <class 'numpy.ndarray'>\n",
            "Here is the vector\n",
            "--------------------\n",
            " [1 2 3]\n"
          ]
        }
      ]
    },
    {
      "cell_type": "code",
      "metadata": {
        "id": "4Y3qw9i8-HJG"
      },
      "source": [],
      "execution_count": null,
      "outputs": []
    },
    {
      "cell_type": "code",
      "metadata": {
        "id": "Is0v_jLmlfQS",
        "outputId": "ba45ee46-4b64-46a7-a7ed-0f56e5766669",
        "colab": {
          "base_uri": "https://localhost:8080/"
        }
      },
      "source": [
        "my_mat = [[1,2,3],[4,5,6],[7,8,9]]\n",
        "mat = np.array(my_mat)\n",
        "print(\"Type/Class of this object:\",type(mat))\n",
        "print(\"Here is the matrix\\n----------\\n\",mat,\"\\n----------\")\n",
        "print(\"Dimension of this matrix: \",mat.ndim,sep='') #ndim gives the dimensison, 2 for a matrix, 1 for a vector\n",
        "print(\"Size of this matrix: \", mat.size,sep='') #size gives the total number of elements\n",
        "print(\"Shape of this matrix: \", mat.shape,sep='') #shape gives the number of elements along each axes (dimension)\n",
        "print(\"Data type of this matrix: \", mat.dtype,sep='') #dtype gives the data type contained in the array"
      ],
      "execution_count": null,
      "outputs": [
        {
          "output_type": "stream",
          "name": "stdout",
          "text": [
            "Type/Class of this object: <class 'numpy.ndarray'>\n",
            "Here is the matrix\n",
            "----------\n",
            " [[1 2 3]\n",
            " [4 5 6]\n",
            " [7 8 9]] \n",
            "----------\n",
            "Dimension of this matrix: 2\n",
            "Size of this matrix: 9\n",
            "Shape of this matrix: (3, 3)\n",
            "Data type of this matrix: int64\n"
          ]
        }
      ]
    },
    {
      "cell_type": "code",
      "metadata": {
        "id": "oIDJO7sVlzk7",
        "outputId": "4a0bfd6e-5bb2-473b-f62b-1540be3d5a2c",
        "colab": {
          "base_uri": "https://localhost:8080/"
        }
      },
      "source": [
        "print(\"A series of numbers:\",np.arange(5,16)) # A series of numbers from low to high"
      ],
      "execution_count": null,
      "outputs": [
        {
          "output_type": "stream",
          "name": "stdout",
          "text": [
            "A series of numbers: [ 5  6  7  8  9 10 11 12 13 14 15]\n"
          ]
        }
      ]
    },
    {
      "cell_type": "code",
      "metadata": {
        "id": "0hVcxLtfl67h",
        "colab": {
          "base_uri": "https://localhost:8080/"
        },
        "outputId": "e5d432a9-024f-4fdc-d6d2-b06a8664ff79"
      },
      "source": [
        "print(\"Numbers spaced apart by 2:\",np.arange(0,11,2)) # Numbers spaced apart by 2"
      ],
      "execution_count": null,
      "outputs": [
        {
          "output_type": "stream",
          "name": "stdout",
          "text": [
            "Numbers spaced apart by 2: [ 0  2  4  6  8 10]\n"
          ]
        }
      ]
    },
    {
      "cell_type": "code",
      "metadata": {
        "id": "4f7fJ91EmAjP",
        "colab": {
          "base_uri": "https://localhost:8080/"
        },
        "outputId": "e073b28e-c6df-43e6-96a4-7e64aa0f7de9"
      },
      "source": [
        "print(\"Numbers spaced apart by float:\",np.arange(0,11,2.5)) # Numbers spaced apart by 2.5"
      ],
      "execution_count": null,
      "outputs": [
        {
          "output_type": "stream",
          "name": "stdout",
          "text": [
            "Numbers spaced apart by float: [ 0.   2.5  5.   7.5 10. ]\n"
          ]
        }
      ]
    },
    {
      "cell_type": "code",
      "metadata": {
        "id": "vUFpbXYemFoN",
        "colab": {
          "base_uri": "https://localhost:8080/"
        },
        "outputId": "9c12d5c1-dc9a-4415-b8b9-e956105a5987"
      },
      "source": [
        "print(\"Every 5th number from 50 in reverse order\\n\",np.arange(50,-1,-5))"
      ],
      "execution_count": null,
      "outputs": [
        {
          "output_type": "stream",
          "name": "stdout",
          "text": [
            "Every 5th number from 50 in reverse order\n",
            " [50 45 40 35 30 25 20 15 10  5  0]\n"
          ]
        }
      ]
    },
    {
      "cell_type": "code",
      "metadata": {
        "id": "LWEV02IhmOPn",
        "colab": {
          "base_uri": "https://localhost:8080/"
        },
        "outputId": "1c1b2bb0-8c77-43c4-9dc2-08bff6183431"
      },
      "source": [
        "print(\"21 linearly spaced numbers between 1 and 5\\n--------------------------------------------\")\n",
        "print(np.linspace(1,5,21))"
      ],
      "execution_count": null,
      "outputs": [
        {
          "output_type": "stream",
          "name": "stdout",
          "text": [
            "21 linearly spaced numbers between 1 and 5\n",
            "--------------------------------------------\n",
            "[1.  1.2 1.4 1.6 1.8 2.  2.2 2.4 2.6 2.8 3.  3.2 3.4 3.6 3.8 4.  4.2 4.4\n",
            " 4.6 4.8 5. ]\n"
          ]
        }
      ]
    },
    {
      "cell_type": "markdown",
      "metadata": {
        "id": "zApjqOA8mXNs"
      },
      "source": [
        "# Zeroes, Ones, empty, and Identity **matriX**\n",
        "\n",
        "> Indented block\n",
        "\n"
      ]
    },
    {
      "cell_type": "code",
      "metadata": {
        "id": "wO5PVJ6VmYwT",
        "colab": {
          "base_uri": "https://localhost:8080/"
        },
        "outputId": "55686861-8cbb-4f18-e728-bae8fc367987"
      },
      "source": [
        "print(\"Vector of zeroes\\n---------------------\")\n",
        "print(np.zeros(5))\n",
        "print(\"Matrix of zeroes\\n--------------------\")\n",
        "print(np.zeros((3,4))) # Notice Tuples"
      ],
      "execution_count": null,
      "outputs": [
        {
          "output_type": "stream",
          "name": "stdout",
          "text": [
            "Vector of zeroes\n",
            "---------------------\n",
            "[0. 0. 0. 0. 0.]\n",
            "Matrix of zeroes\n",
            "--------------------\n",
            "[[0. 0. 0. 0.]\n",
            " [0. 0. 0. 0.]\n",
            " [0. 0. 0. 0.]]\n"
          ]
        }
      ]
    },
    {
      "cell_type": "code",
      "metadata": {
        "id": "PaErV1uZmsnb",
        "colab": {
          "base_uri": "https://localhost:8080/"
        },
        "outputId": "e41cd281-0ea2-4841-d5c3-06eb350c98a8"
      },
      "source": [
        "print(\"Vector of ones\\n---------------------\")\n",
        "print(np.ones(5))\n",
        "print(\"Matrix of ones\\n---------------------\")\n",
        "print(np.ones((5,2))) # Note matrix dimension specified by Tuples\n",
        "print(\"Matrix of 5's\\n---------------------\")\n",
        "print(5*np.ones((3,5)))"
      ],
      "execution_count": null,
      "outputs": [
        {
          "output_type": "stream",
          "name": "stdout",
          "text": [
            "Vector of ones\n",
            "---------------------\n",
            "[1. 1. 1. 1. 1.]\n",
            "Matrix of ones\n",
            "---------------------\n",
            "[[1. 1.]\n",
            " [1. 1.]\n",
            " [1. 1.]\n",
            " [1. 1.]\n",
            " [1. 1.]]\n",
            "Matrix of 5's\n",
            "---------------------\n",
            "[[5. 5. 5. 5. 5.]\n",
            " [5. 5. 5. 5. 5.]\n",
            " [5. 5. 5. 5. 5.]]\n"
          ]
        }
      ]
    },
    {
      "cell_type": "code",
      "metadata": {
        "id": "ZWtph-h9myZY",
        "colab": {
          "base_uri": "https://localhost:8080/"
        },
        "outputId": "a6c8debc-4f78-4686-c37e-bc760868d803"
      },
      "source": [
        "print(\"Empty matrix\\n-------------\\n\", np.empty((4,6)))"
      ],
      "execution_count": null,
      "outputs": [
        {
          "output_type": "stream",
          "name": "stdout",
          "text": [
            "Empty matrix\n",
            "-------------\n",
            " [[-0.25 -0.5   0.   -0.25  0.25 -0.5 ]\n",
            " [ 0.5  -0.25  0.25  0.    0.5   0.25]\n",
            " [ 0.25  0.5   0.    0.25 -0.25  0.5 ]\n",
            " [-0.5   0.25 -0.25  0.   -0.5  -0.25]]\n"
          ]
        }
      ]
    },
    {
      "cell_type": "code",
      "metadata": {
        "id": "l8Q8E6-lm9_o",
        "colab": {
          "base_uri": "https://localhost:8080/"
        },
        "outputId": "acdb3bf1-0feb-4c89-9a72-ee013580b8f8"
      },
      "source": [
        "mat1 = np.eye(4)\n",
        "print(\"Identity matrix of dimension\", mat1.shape)\n",
        "print(mat1)"
      ],
      "execution_count": null,
      "outputs": [
        {
          "output_type": "stream",
          "name": "stdout",
          "text": [
            "Identity matrix of dimension (4, 4)\n",
            "[[1. 0. 0. 0.]\n",
            " [0. 1. 0. 0.]\n",
            " [0. 0. 1. 0.]\n",
            " [0. 0. 0. 1.]]\n"
          ]
        }
      ]
    },
    {
      "cell_type": "code",
      "metadata": {
        "id": "nFcq2ROPnKHs",
        "colab": {
          "base_uri": "https://localhost:8080/"
        },
        "outputId": "c78e06b3-8b59-41a0-ac94-fb263b0d7622"
      },
      "source": [
        "print(\"Random number generation (from Uniform distribution)\")\n",
        "print(np.random.rand(2,3)) # 2 by 3 matrix with random numbers ranging from 0 to 1, Note no Tuple is necessary"
      ],
      "execution_count": null,
      "outputs": [
        {
          "output_type": "stream",
          "name": "stdout",
          "text": [
            "Random number generation (from Uniform distribution)\n",
            "[[0.46816411 0.47004102 0.57866331]\n",
            " [0.00299991 0.96524263 0.45585303]]\n"
          ]
        }
      ]
    },
    {
      "cell_type": "code",
      "metadata": {
        "id": "c1dZONW3nabN",
        "colab": {
          "base_uri": "https://localhost:8080/"
        },
        "outputId": "ab94f6fa-ecc9-4b52-cade-2addb8b41fea"
      },
      "source": [
        "print(\"Numbers from Normal distribution with zero mean and standard deviation 1 i.e. standard normal\")\n",
        "print(np.random.randn(4,3))"
      ],
      "execution_count": null,
      "outputs": [
        {
          "output_type": "stream",
          "name": "stdout",
          "text": [
            "Numbers from Normal distribution with zero mean and standard deviation 1 i.e. standard normal\n",
            "[[-1.74381901  0.50318002  0.71511377]\n",
            " [ 0.2266836   1.51709155 -1.12265655]\n",
            " [ 0.08599505 -1.63520619 -0.62422639]\n",
            " [-1.21434389 -0.46064661 -1.14237501]]\n"
          ]
        }
      ]
    },
    {
      "cell_type": "code",
      "metadata": {
        "id": "uEvnFLDnnoAK",
        "colab": {
          "base_uri": "https://localhost:8080/"
        },
        "outputId": "95e8bf25-cf75-4160-f6e6-6bac9cf299fd"
      },
      "source": [
        "print(\"Random integer vector:\",np.random.randint(1,100,10)) #randint (low, high, # of samples to be drawn)\n",
        "print (\"\\nRandom integer matrix\")\n",
        "print(np.random.randint(1,100,(4,4))) #randint (low, high, # of samples to be drawn in a tuple to form a matrix)\n",
        "print(\"\\n20 samples drawn from a dice throw:\",np.random.randint(1,7,20)) # 20 samples drawn from a dice throw"
      ],
      "execution_count": null,
      "outputs": [
        {
          "output_type": "stream",
          "name": "stdout",
          "text": [
            "Random integer vector: [63 82 32 59 79 78 25 99 66 75]\n",
            "\n",
            "Random integer matrix\n",
            "[[84 41 19 95]\n",
            " [42 95 98 83]\n",
            " [69 36 44 75]\n",
            " [87 39 75 82]]\n",
            "\n",
            "20 samples drawn from a dice throw: [4 3 3 5 4 4 6 2 5 1 4 4 6 6 3 1 5 3 2 3]\n"
          ]
        }
      ]
    },
    {
      "cell_type": "markdown",
      "metadata": {
        "id": "dBS6rFC0nvTF"
      },
      "source": [
        "# Reshaping, min, max, **sort**"
      ]
    },
    {
      "cell_type": "code",
      "metadata": {
        "id": "R8rKzQ3unymM",
        "colab": {
          "base_uri": "https://localhost:8080/"
        },
        "outputId": "19360d0f-f753-4914-c6e0-141957d12cf2"
      },
      "source": [
        "from numpy.random import randint as ri\n",
        "a = ri(1,100,30)\n",
        "b = a.reshape(2,3,5)\n",
        "c = a.reshape(6,5)\n",
        "print (\"Shape of a:\", a.shape)\n",
        "print (\"Shape of b:\", b.shape)\n",
        "print (\"Shape of c:\", c.shape)\n",
        "print(\"\\na looks like\\n\",'-'*20,\"\\n\",a,\"\\n\",'-'*20)\n",
        "print(\"\\nb looks like\\n\",'-'*20,\"\\n\",b,\"\\n\",'-'*20)\n",
        "print(\"\\nc looks like\\n\",'-'*20,\"\\n\",c,\"\\n\",'-'*20)\n",
        "\n",
        "A = ri(1,100,10) # Vector of random interegrs\n",
        "print(\"\\nVector of random integers\\n\",'-'*50,\"\\n\",A)\n",
        "print(\"\\nHere is the sorted vector\\n\",'-'*50,\"\\n\",np.sort(A, kind='mergesort'))\n",
        "\n",
        "M = ri(1,100,25).reshape(5,5) # Matrix of random interegrs\n",
        "print(\"\\n5x5 Matrix of random integers\\n\",'-'*50,\"\\n\",M)\n",
        "print(\"\\nHere is the sorted matrix along each row\\n\",'-'*50,\"\\n\",np.sort(M, kind='mergesort')) # Default axis =1\n",
        "print(\"\\nHere is the sorted matrix along each column\\n\",'-'*50,\"\\n\",np.sort(M, axis=0, kind='mergesort'))"
      ],
      "execution_count": null,
      "outputs": [
        {
          "output_type": "stream",
          "name": "stdout",
          "text": [
            "Shape of a: (30,)\n",
            "Shape of b: (2, 3, 5)\n",
            "Shape of c: (6, 5)\n",
            "\n",
            "a looks like\n",
            " -------------------- \n",
            " [26 44 98 85  1 46 66 62 71  2  6 90  2 39 83 46 25 13 80 20  8 95 81 55\n",
            " 72 96 11 99 48 41] \n",
            " --------------------\n",
            "\n",
            "b looks like\n",
            " -------------------- \n",
            " [[[26 44 98 85  1]\n",
            "  [46 66 62 71  2]\n",
            "  [ 6 90  2 39 83]]\n",
            "\n",
            " [[46 25 13 80 20]\n",
            "  [ 8 95 81 55 72]\n",
            "  [96 11 99 48 41]]] \n",
            " --------------------\n",
            "\n",
            "c looks like\n",
            " -------------------- \n",
            " [[26 44 98 85  1]\n",
            " [46 66 62 71  2]\n",
            " [ 6 90  2 39 83]\n",
            " [46 25 13 80 20]\n",
            " [ 8 95 81 55 72]\n",
            " [96 11 99 48 41]] \n",
            " --------------------\n",
            "\n",
            "Vector of random integers\n",
            " -------------------------------------------------- \n",
            " [32 35 52 20  8  9 19 82 73 51]\n",
            "\n",
            "Here is the sorted vector\n",
            " -------------------------------------------------- \n",
            " [ 8  9 19 20 32 35 51 52 73 82]\n",
            "\n",
            "5x5 Matrix of random integers\n",
            " -------------------------------------------------- \n",
            " [[51  7 85 39 62]\n",
            " [42  1 38  3  2]\n",
            " [64 81 97 31 81]\n",
            " [75 60 79 73 58]\n",
            " [31 40 73  9 15]]\n",
            "\n",
            "Here is the sorted matrix along each row\n",
            " -------------------------------------------------- \n",
            " [[ 7 39 51 62 85]\n",
            " [ 1  2  3 38 42]\n",
            " [31 64 81 81 97]\n",
            " [58 60 73 75 79]\n",
            " [ 9 15 31 40 73]]\n",
            "\n",
            "Here is the sorted matrix along each column\n",
            " -------------------------------------------------- \n",
            " [[31  1 38  3  2]\n",
            " [42  7 73  9 15]\n",
            " [51 40 79 31 58]\n",
            " [64 60 85 39 62]\n",
            " [75 81 97 73 81]]\n"
          ]
        }
      ]
    },
    {
      "cell_type": "code",
      "metadata": {
        "id": "eKnOZVn2qAi2",
        "colab": {
          "base_uri": "https://localhost:8080/"
        },
        "outputId": "9c19ad43-2939-4492-de61-01e5b08bf7e9"
      },
      "source": [
        "print(\"Max of a:\", a.max())\n",
        "print(\"Max of b:\", b.max())\n",
        "print(\"Max of a location:\", a.argmax())\n",
        "print(\"Max of b location:\", b.argmax())\n",
        "print(\"Max of c location:\", b.argmax())"
      ],
      "execution_count": null,
      "outputs": [
        {
          "output_type": "stream",
          "name": "stdout",
          "text": [
            "Max of a: 99\n",
            "Max of b: 99\n",
            "Max of a location: 27\n",
            "Max of b location: 27\n",
            "Max of c location: 27\n"
          ]
        }
      ]
    },
    {
      "cell_type": "code",
      "metadata": {
        "id": "NFomfGS1qXH_",
        "colab": {
          "base_uri": "https://localhost:8080/"
        },
        "outputId": "bf1d2e14-e16d-4d90-d683-cc98172b3d53"
      },
      "source": [
        "arr = np.arange(0,11)\n",
        "print(\"Array:\",arr)\n",
        "print(\"Element at 7th index is:\", arr[7])\n",
        "print(\"Elements from 3rd to 5th index are:\", arr[3:6])\n",
        "print(\"Elements up to 4th index are:\", arr[:4])\n",
        "print(\"Elements from last backwards are:\", arr[-1::-1])\n",
        "print(\"3 Elements from last backwards are:\", arr[-1:-6:-2])\n",
        "\n",
        "arr = np.arange(0,21,2)\n",
        "print(\"New array:\",arr)\n",
        "print(\"Elements at 2nd, 4th, and 9th index are:\", arr[[2,4,9]]) # Pass a list as a index to subset"
      ],
      "execution_count": null,
      "outputs": [
        {
          "output_type": "stream",
          "name": "stdout",
          "text": [
            "Array: [ 0  1  2  3  4  5  6  7  8  9 10]\n",
            "Element at 7th index is: 7\n",
            "Elements from 3rd to 5th index are: [3 4 5]\n",
            "Elements up to 4th index are: [0 1 2 3]\n",
            "Elements from last backwards are: [10  9  8  7  6  5  4  3  2  1  0]\n",
            "3 Elements from last backwards are: [10  8  6]\n",
            "New array: [ 0  2  4  6  8 10 12 14 16 18 20]\n",
            "Elements at 2nd, 4th, and 9th index are: [ 4  8 18]\n"
          ]
        }
      ]
    },
    {
      "cell_type": "code",
      "metadata": {
        "id": "GDJnlCYyqhyD",
        "colab": {
          "base_uri": "https://localhost:8080/"
        },
        "outputId": "2e989693-f74e-4ec9-be84-eecd450d4fbc"
      },
      "source": [
        "mat = np.array(ri(10,100,15)).reshape(3,5)\n",
        "print(\"Matrix of random 2-digit numbers\\n--------------------------------\\n\",mat)\n",
        "\n",
        "print(\"\\nDouble bracket indexing\\n------------------------\")\n",
        "print(\"Element in row index 1 and column index 2:\", mat[1][2])\n",
        "\n",
        "print(\"\\nSingle bracket with comma indexing\\n----------------------------------\")\n",
        "print(\"Element in row index 1 and column index 2:\", mat[1,2])\n",
        "print(\"\\nRow or column extract\\n----------------------\")\n",
        "\n",
        "print(\"Entire row at index 2:\", mat[2])\n",
        "print(\"Entire column at index 3:\", mat[:,3])\n",
        "\n",
        "print(\"\\nSubsetting sub-matrices\\n--------------------------\")\n",
        "print(\"Matrix with row indices 1 and 2 and column indices 3 and 4\\n\", mat[1:3,3:5])\n",
        "print(\"Matrix with row indices 0 and 1 and column indices 1 and 3\\n\", mat[0:2,[1,3]])"
      ],
      "execution_count": null,
      "outputs": [
        {
          "output_type": "stream",
          "name": "stdout",
          "text": [
            "Matrix of random 2-digit numbers\n",
            "--------------------------------\n",
            " [[98 11 35 25 25]\n",
            " [98 43 71 65 62]\n",
            " [31 33 28 47 43]]\n",
            "\n",
            "Double bracket indexing\n",
            "------------------------\n",
            "Element in row index 1 and column index 2: 71\n",
            "\n",
            "Single bracket with comma indexing\n",
            "----------------------------------\n",
            "Element in row index 1 and column index 2: 71\n",
            "\n",
            "Row or column extract\n",
            "----------------------\n",
            "Entire row at index 2: [31 33 28 47 43]\n",
            "Entire column at index 3: [25 65 47]\n",
            "\n",
            "Subsetting sub-matrices\n",
            "--------------------------\n",
            "Matrix with row indices 1 and 2 and column indices 3 and 4\n",
            " [[65 62]\n",
            " [47 43]]\n",
            "Matrix with row indices 0 and 1 and column indices 1 and 3\n",
            " [[11 25]\n",
            " [43 65]]\n"
          ]
        }
      ]
    },
    {
      "cell_type": "code",
      "metadata": {
        "id": "IpqGmbeDrGub",
        "colab": {
          "base_uri": "https://localhost:8080/"
        },
        "outputId": "a4d33c08-5bca-4499-b016-ff808ee1a04c"
      },
      "source": [
        "mat1 = np.array(ri(1,10,9)).reshape(3,3)\n",
        "mat2 = np.array(ri(1,10,9)).reshape(3,3)\n",
        "print(\"\\n1st Matrix of random single-digit numbers\\n----------------------------------------\\n\",mat1)\n",
        "print(\"\\n2nd Matrix of random single-digit numbers\\n----------------------------------------\\n\",mat2)\n",
        "\n",
        "print(\"\\nAddition\\n------------------\\n\", mat1+mat2)\n",
        "print(\"\\nMultiplication\\n------------------\\n\", mat1*mat2)\n",
        "print(\"\\nDivision\\n------------------\\n\", mat1/mat2)\n",
        "print(\"\\nLineaer combination: 3*A - 2*B\\n-----------------------------\\n\", 3*mat1-2*mat2)\n",
        "\n",
        "print(\"\\nAddition of a scalar (100)\\n-------------------------\\n\", 100+mat1)\n",
        "\n",
        "print(\"\\nExponentiation, matrix cubed here\\n----------------------------------------\\n\", mat1**3)\n",
        "print(\"\\nExponentiation, sq-root using pow function\\n-------------------------------------------\\n\",pow(mat1,0.5))"
      ],
      "execution_count": null,
      "outputs": [
        {
          "output_type": "stream",
          "name": "stdout",
          "text": [
            "\n",
            "1st Matrix of random single-digit numbers\n",
            "----------------------------------------\n",
            " [[5 1 8]\n",
            " [6 2 8]\n",
            " [8 2 7]]\n",
            "\n",
            "2nd Matrix of random single-digit numbers\n",
            "----------------------------------------\n",
            " [[8 3 7]\n",
            " [9 4 2]\n",
            " [2 9 2]]\n",
            "\n",
            "Addition\n",
            "------------------\n",
            " [[13  4 15]\n",
            " [15  6 10]\n",
            " [10 11  9]]\n",
            "\n",
            "Multiplication\n",
            "------------------\n",
            " [[40  3 56]\n",
            " [54  8 16]\n",
            " [16 18 14]]\n",
            "\n",
            "Division\n",
            "------------------\n",
            " [[0.625      0.33333333 1.14285714]\n",
            " [0.66666667 0.5        4.        ]\n",
            " [4.         0.22222222 3.5       ]]\n",
            "\n",
            "Lineaer combination: 3*A - 2*B\n",
            "-----------------------------\n",
            " [[ -1  -3  10]\n",
            " [  0  -2  20]\n",
            " [ 20 -12  17]]\n",
            "\n",
            "Addition of a scalar (100)\n",
            "-------------------------\n",
            " [[105 101 108]\n",
            " [106 102 108]\n",
            " [108 102 107]]\n",
            "\n",
            "Exponentiation, matrix cubed here\n",
            "----------------------------------------\n",
            " [[125   1 512]\n",
            " [216   8 512]\n",
            " [512   8 343]]\n",
            "\n",
            "Exponentiation, sq-root using pow function\n",
            "-------------------------------------------\n",
            " [[2.23606798 1.         2.82842712]\n",
            " [2.44948974 1.41421356 2.82842712]\n",
            " [2.82842712 1.41421356 2.64575131]]\n"
          ]
        }
      ]
    },
    {
      "cell_type": "markdown",
      "metadata": {
        "id": "jW7KTVItrLGY"
      },
      "source": [
        "**Broadcasting (super cool feature)**\n",
        "NumPy operations are usually done on pairs of arrays on an element-by-element basis. In the simplest case, the two arrays must have exactly the same shape.\n",
        "\n",
        "NumPy’s broadcasting rule relaxes this constraint when the arrays’ shapes meet certain constraints. When operating on two arrays, NumPy compares their shapes element-wise. It starts with the trailing dimensions, and works its way forward. Two dimensions are compatible when\n",
        "\n",
        "they are equal, or\n",
        "one of them is 1\n",
        "If these conditions are not met, a ValueError: frames are not aligned exception is thrown, indicating that the arrays have incompatible shapes. The size of the resulting array is the maximum size along each dimension of the input arrays.\n",
        "\n",
        "For more detail, please look up: https://docs.scipy.org/doc/numpy-1.10.1/user/basics.broadcasting.html"
      ]
    },
    {
      "cell_type": "code",
      "metadata": {
        "id": "bBVpELDprRec",
        "colab": {
          "base_uri": "https://localhost:8080/"
        },
        "outputId": "34c6f1eb-cce2-48f9-9a35-d035f11f6ee2"
      },
      "source": [
        "start = np.zeros((4,3))\n",
        "print(start)"
      ],
      "execution_count": null,
      "outputs": [
        {
          "output_type": "stream",
          "name": "stdout",
          "text": [
            "[[0. 0. 0.]\n",
            " [0. 0. 0.]\n",
            " [0. 0. 0.]\n",
            " [0. 0. 0.]]\n"
          ]
        }
      ]
    },
    {
      "cell_type": "code",
      "metadata": {
        "id": "ffhOZbvArf_3",
        "colab": {
          "base_uri": "https://localhost:8080/"
        },
        "outputId": "62eda1a6-7725-4405-8d28-e19282913a07"
      },
      "source": [
        "# create a rank 1 ndarray with 3 values\n",
        "add_rows = np.array([1, 0, 2])\n",
        "print(add_rows)"
      ],
      "execution_count": null,
      "outputs": [
        {
          "output_type": "stream",
          "name": "stdout",
          "text": [
            "[1 0 2]\n"
          ]
        }
      ]
    },
    {
      "cell_type": "code",
      "metadata": {
        "id": "Kw17ypLpri_-",
        "colab": {
          "base_uri": "https://localhost:8080/"
        },
        "outputId": "1c22ff41-4871-4128-d3d7-e38172b2a91e"
      },
      "source": [
        "y = start + add_rows  # add to each row of 'start' using broadcasting\n",
        "print(y)"
      ],
      "execution_count": null,
      "outputs": [
        {
          "output_type": "stream",
          "name": "stdout",
          "text": [
            "[[1. 0. 2.]\n",
            " [1. 0. 2.]\n",
            " [1. 0. 2.]\n",
            " [1. 0. 2.]]\n"
          ]
        }
      ]
    },
    {
      "cell_type": "code",
      "metadata": {
        "id": "YCSicCsdrpAJ",
        "colab": {
          "base_uri": "https://localhost:8080/"
        },
        "outputId": "010559d8-d230-4b38-8e13-de5ba06a4f3d"
      },
      "source": [
        "# create an ndarray which is 4 x 1 to broadcast across columns\n",
        "add_cols = np.array([[0,1,2,3]])\n",
        "add_cols = add_cols.T\n",
        "print(add_cols)"
      ],
      "execution_count": null,
      "outputs": [
        {
          "output_type": "stream",
          "name": "stdout",
          "text": [
            "[[0]\n",
            " [1]\n",
            " [2]\n",
            " [3]]\n"
          ]
        }
      ]
    },
    {
      "cell_type": "code",
      "metadata": {
        "id": "wXnMcNFsryug",
        "colab": {
          "base_uri": "https://localhost:8080/"
        },
        "outputId": "7c6b17f3-585f-4c39-eb84-d6cfb22c5aaf"
      },
      "source": [
        "# add to each column of 'start' using broadcasting\n",
        "y = start + add_cols\n",
        "print(y)"
      ],
      "execution_count": null,
      "outputs": [
        {
          "output_type": "stream",
          "name": "stdout",
          "text": [
            "[[0. 0. 0.]\n",
            " [1. 1. 1.]\n",
            " [2. 2. 2.]\n",
            " [3. 3. 3.]]\n"
          ]
        }
      ]
    },
    {
      "cell_type": "code",
      "metadata": {
        "id": "c5GCTnJRr2vD",
        "colab": {
          "base_uri": "https://localhost:8080/"
        },
        "outputId": "7e0b2c9a-d32f-4aae-a8fb-1e78d30a4035"
      },
      "source": [
        "# this will just broadcast in both dimensions\n",
        "add_scalar = np.array([100])\n",
        "print(start+add_scalar)"
      ],
      "execution_count": null,
      "outputs": [
        {
          "output_type": "stream",
          "name": "stdout",
          "text": [
            "[[100. 100. 100.]\n",
            " [100. 100. 100.]\n",
            " [100. 100. 100.]\n",
            " [100. 100. 100.]]\n"
          ]
        }
      ]
    },
    {
      "cell_type": "markdown",
      "metadata": {
        "id": "dUfHAQn3sGez"
      },
      "source": [
        "# Linear Algebra Operations\n",
        "# Dot/Inner/Outer products"
      ]
    },
    {
      "cell_type": "code",
      "metadata": {
        "id": "a-7RUFdDsO-t",
        "colab": {
          "base_uri": "https://localhost:8080/"
        },
        "outputId": "e012405b-3c69-4b3c-db67-c4233667dea9"
      },
      "source": [
        "A = np.arange(1,10).reshape(3,3)\n",
        "B = ri(1,10,9).reshape(3,3)\n",
        "print(\"\\n1st Matrix of 1-9 single-digit numbers (A)\\n\",\"-\"*50,\"\\n\",A)\n",
        "print(\"\\n2nd Matrix of random single-digit numbers (B)\\n\",\"-\"*50,\"\\n\",B)\n",
        "\n",
        "print(\"\\nDot product of A and B (for 2D arrays it is equivalent to matrix multiplication) \\n\",\"-\"*80,\"\\n\",np.dot(A,B))\n",
        "\n",
        "A = np.arange(1,6)\n",
        "B = ri(1,10,5)\n",
        "print(\"\\n1st Vector of 1-5 numbers (A)\\n\",\"-\"*50,\"\\n\",A)\n",
        "print(\"\\n2nd Vector of 5 random single-digit numbers (B)\\n\",\"-\"*50,\"\\n\",B)\n",
        "\n",
        "print(\"\\nInner product of vectors A and B \\n\",\"-\"*50,\"\\n\",np.inner(A,B), \"(sum of all pairwise elements)\")\n",
        "print(\"\\nOuter product of vectors A and B \\n\",\"-\"*50,\"\\n\",np.outer(A,B))"
      ],
      "execution_count": null,
      "outputs": [
        {
          "output_type": "stream",
          "name": "stdout",
          "text": [
            "\n",
            "1st Matrix of 1-9 single-digit numbers (A)\n",
            " -------------------------------------------------- \n",
            " [[1 2 3]\n",
            " [4 5 6]\n",
            " [7 8 9]]\n",
            "\n",
            "2nd Matrix of random single-digit numbers (B)\n",
            " -------------------------------------------------- \n",
            " [[6 3 3]\n",
            " [7 5 7]\n",
            " [4 6 8]]\n",
            "\n",
            "Dot product of A and B (for 2D arrays it is equivalent to matrix multiplication) \n",
            " -------------------------------------------------------------------------------- \n",
            " [[ 32  31  41]\n",
            " [ 83  73  95]\n",
            " [134 115 149]]\n",
            "\n",
            "1st Vector of 1-5 numbers (A)\n",
            " -------------------------------------------------- \n",
            " [1 2 3 4 5]\n",
            "\n",
            "2nd Vector of 5 random single-digit numbers (B)\n",
            " -------------------------------------------------- \n",
            " [9 4 3 1 6]\n",
            "\n",
            "Inner product of vectors A and B \n",
            " -------------------------------------------------- \n",
            " 60 (sum of all pairwise elements)\n",
            "\n",
            "Outer product of vectors A and B \n",
            " -------------------------------------------------- \n",
            " [[ 9  4  3  1  6]\n",
            " [18  8  6  2 12]\n",
            " [27 12  9  3 18]\n",
            " [36 16 12  4 24]\n",
            " [45 20 15  5 30]]\n"
          ]
        }
      ]
    },
    {
      "cell_type": "markdown",
      "metadata": {
        "id": "Vhug9wfCson2"
      },
      "source": [
        "# TRANSPOSE"
      ]
    },
    {
      "cell_type": "markdown",
      "metadata": {
        "id": "twpvg16JsqU0"
      },
      "source": []
    },
    {
      "cell_type": "code",
      "metadata": {
        "id": "jZQbgfO8skG0",
        "colab": {
          "base_uri": "https://localhost:8080/"
        },
        "outputId": "24d1acf5-9660-41b3-9b7d-2c9851778174"
      },
      "source": [
        "A = ri(1,10,9).reshape(3,3)\n",
        "print(\"\\n3x3 Matrix of random single-digit numbers\\n\",\"-\"*50,\"\\n\",A)\n",
        "print(\"\\nMatrix transpose\\n\",\"-\"*50,\"\\n\",np.transpose(A))\n",
        "\n",
        "B = ri(1,10,6).reshape(3,2)\n",
        "print(\"\\n3x2 Matrix of random single-digit numbers\\n\",\"-\"*50,\"\\n\",B)\n",
        "print(\"\\n2x3 Matrix transpose\\n\",\"-\"*50,\"\\n\",np.transpose(B))\n",
        "print(\"\\nMatrix multiplication of B and B-transpose\\n\",\"-\"*50,\"\\n\",np.dot(B, np.transpose(B)))"
      ],
      "execution_count": null,
      "outputs": [
        {
          "output_type": "stream",
          "name": "stdout",
          "text": [
            "\n",
            "3x3 Matrix of random single-digit numbers\n",
            " -------------------------------------------------- \n",
            " [[6 9 2]\n",
            " [5 5 9]\n",
            " [6 5 9]]\n",
            "\n",
            "Matrix transpose\n",
            " -------------------------------------------------- \n",
            " [[6 5 6]\n",
            " [9 5 5]\n",
            " [2 9 9]]\n",
            "\n",
            "3x2 Matrix of random single-digit numbers\n",
            " -------------------------------------------------- \n",
            " [[6 6]\n",
            " [4 4]\n",
            " [6 2]]\n",
            "\n",
            "2x3 Matrix transpose\n",
            " -------------------------------------------------- \n",
            " [[6 4 6]\n",
            " [6 4 2]]\n",
            "\n",
            "Matrix multiplication of B and B-transpose\n",
            " -------------------------------------------------- \n",
            " [[72 48 48]\n",
            " [48 32 32]\n",
            " [48 32 40]]\n"
          ]
        }
      ]
    },
    {
      "cell_type": "markdown",
      "metadata": {
        "id": "RTeAONK1s-A9"
      },
      "source": []
    },
    {
      "cell_type": "code",
      "metadata": {
        "id": "3aq6Gzkps9J_",
        "colab": {
          "base_uri": "https://localhost:8080/"
        },
        "outputId": "788b301f-6e59-4115-99db-ca83ce00dd47"
      },
      "source": [
        "A = ri(1,10,16).reshape(4,4)\n",
        "print(\"\\n4x4 Matrix of random single-digit numbers\\n\",\"-\"*50,\"\\n\",A)\n",
        "print(\"\\nMatrix trace\\n\",\"-\"*50,\"\\n\",np.trace(A))\n",
        "print(\"\\nMatrix trace with ofset +1 (upper triangle)\\n\",\"-\"*50,\"\\n\",np.trace(A,offset=1))\n",
        "print(\"\\nMatrix trace with ofset -1 (lower triangle)\\n\",\"-\"*50,\"\\n\",np.trace(A,offset=-1))"
      ],
      "execution_count": null,
      "outputs": [
        {
          "output_type": "stream",
          "name": "stdout",
          "text": [
            "\n",
            "4x4 Matrix of random single-digit numbers\n",
            " -------------------------------------------------- \n",
            " [[9 5 3 8]\n",
            " [4 5 4 5]\n",
            " [5 5 8 4]\n",
            " [1 1 6 1]]\n",
            "\n",
            "Matrix trace\n",
            " -------------------------------------------------- \n",
            " 23\n",
            "\n",
            "Matrix trace with ofset +1 (upper triangle)\n",
            " -------------------------------------------------- \n",
            " 13\n",
            "\n",
            "Matrix trace with ofset -1 (lower triangle)\n",
            " -------------------------------------------------- \n",
            " 15\n"
          ]
        }
      ]
    },
    {
      "cell_type": "markdown",
      "metadata": {
        "id": "g4SsJbAOtnvb"
      },
      "source": [
        "# **Eigenvalues and eigenvectors**"
      ]
    },
    {
      "cell_type": "code",
      "metadata": {
        "id": "AASYWj-FtnJs",
        "colab": {
          "base_uri": "https://localhost:8080/"
        },
        "outputId": "1ecad7e4-bf8a-4016-c2ce-45bacc6df212"
      },
      "source": [
        "A = np.random.randn(9).reshape(3,3)\n",
        "print(\"Original matrix\\n\",A)\n",
        "print(\"\\n\")\n",
        "w,v=np.linalg.eig(A)\n",
        "print(\"Eigenvalues:\\n\",w)\n",
        "print(\"\\n\")\n",
        "print(\"Eigenvectors:\\n\",v)"
      ],
      "execution_count": null,
      "outputs": [
        {
          "output_type": "stream",
          "name": "stdout",
          "text": [
            "Original matrix\n",
            " [[ 0.66034687  0.128099   -1.15006799]\n",
            " [ 1.36289511 -0.18011204 -1.1811448 ]\n",
            " [-0.04605428 -0.15127387  1.69580489]]\n",
            "\n",
            "\n",
            "Eigenvalues:\n",
            " [-0.3269526   0.57425025  1.92874208]\n",
            "\n",
            "\n",
            "Eigenvectors:\n",
            " [[ 0.04363263 -0.56570469 -0.54577626]\n",
            " [-0.99633889 -0.81381227 -0.64934493]\n",
            " [-0.07351873 -0.13299544  0.52960309]]\n"
          ]
        }
      ]
    },
    {
      "cell_type": "markdown",
      "metadata": {
        "id": "ELYrCGdJt-sJ"
      },
      "source": [
        "# Linear equation solving, matrix inverse, linear least suqare\n",
        "You can directly solve linear system of equations using NumPy writing only one line of code.\n",
        "\n",
        "Suppose you want to solve the following set of equations for (x,y,z). It is easy to see that (2,1,5) are the unique solutions.\n",
        "\n",
        "2x + 5y + z = 14;\n",
        "\n",
        "3x - 2y - z = -1;\n",
        "\n",
        "x - 3y + z = 4"
      ]
    },
    {
      "cell_type": "code",
      "metadata": {
        "id": "-RwWC-Zxt4NK",
        "colab": {
          "base_uri": "https://localhost:8080/"
        },
        "outputId": "625250e5-0512-46dc-d8f1-270cbc2d10a1"
      },
      "source": [
        "A = np.array([[2,5,1],[3,-2,-1],[1,-3,1]])\n",
        "B = np.array([14,-1,4])\n",
        "x = np.linalg.solve(A,B)\n",
        "\n",
        "print(\"The solutions are:\",x)"
      ],
      "execution_count": null,
      "outputs": [
        {
          "output_type": "stream",
          "name": "stdout",
          "text": [
            "The solutions are: [2. 1. 5.]\n"
          ]
        }
      ]
    }
  ]
}